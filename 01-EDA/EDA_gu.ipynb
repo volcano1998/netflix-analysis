{
  "nbformat": 4,
  "nbformat_minor": 0,
  "metadata": {
    "colab": {
      "name": "EDA_gu.ipynb",
      "provenance": [],
      "collapsed_sections": [],
      "machine_shape": "hm"
    },
    "kernelspec": {
      "name": "python3",
      "display_name": "Python 3"
    },
    "language_info": {
      "name": "python"
    }
  },
  "cells": [
    {
      "cell_type": "code",
      "metadata": {
        "colab": {
          "base_uri": "https://localhost:8080/"
        },
        "id": "_l9MW6De2WJ0",
        "outputId": "e7f930f6-dd94-4723-ae62-9631eb8073d1"
      },
      "source": [
        "from pydrive.auth import GoogleAuth\n",
        "from pydrive.drive import GoogleDrive\n",
        "from google.colab import auth\n",
        "from oauth2client.client import GoogleCredentials\n",
        "\n",
        "from google.colab import drive\n",
        "drive.mount('/content/drive')\n",
        "import os\n",
        "os.chdir('/content/drive/My Drive/bigdata/project')"
      ],
      "execution_count": null,
      "outputs": [
        {
          "output_type": "stream",
          "text": [
            "Drive already mounted at /content/drive; to attempt to forcibly remount, call drive.mount(\"/content/drive\", force_remount=True).\n"
          ],
          "name": "stdout"
        }
      ]
    },
    {
      "cell_type": "code",
      "metadata": {
        "colab": {
          "base_uri": "https://localhost:8080/"
        },
        "id": "ykYOlg2t-QPy",
        "outputId": "ced4b951-0414-4642-ae32-4bfd4c6540e0"
      },
      "source": [
        "!pip install pyspark \n",
        "!pip install -U -q PyDrive\n",
        "!apt install openjdk-8-jdk-headless -qq\n",
        "import os\n",
        "os.environ[\"JAVA_HOME\"] = \"/usr/lib/jvm/java-8-openjdk-amd64\""
      ],
      "execution_count": null,
      "outputs": [
        {
          "output_type": "stream",
          "text": [
            "Requirement already satisfied: pyspark in /usr/local/lib/python3.7/dist-packages (3.1.1)\n",
            "Requirement already satisfied: py4j==0.10.9 in /usr/local/lib/python3.7/dist-packages (from pyspark) (0.10.9)\n",
            "openjdk-8-jdk-headless is already the newest version (8u282-b08-0ubuntu1~18.04).\n",
            "The following package was automatically installed and is no longer required:\n",
            "  libnvidia-common-460\n",
            "Use 'apt autoremove' to remove it.\n",
            "0 upgraded, 0 newly installed, 0 to remove and 34 not upgraded.\n"
          ],
          "name": "stdout"
        }
      ]
    },
    {
      "cell_type": "code",
      "metadata": {
        "id": "hcHJgg_b-l3k"
      },
      "source": [
        "import pandas as pd\n",
        "import numpy as np\n",
        "import matplotlib.pyplot as plt\n",
        "%matplotlib inline\n",
        "\n",
        "import pyspark\n",
        "from pyspark import SparkContext, SparkConf\n",
        "from pyspark.sql import SparkSession"
      ],
      "execution_count": null,
      "outputs": []
    },
    {
      "cell_type": "code",
      "metadata": {
        "id": "8U4D8yRw-tEU"
      },
      "source": [
        "# create the session\n",
        "conf = SparkConf().set(\"spark.project\", \"4050\")\n",
        "\n",
        "# create the context\n",
        "sc = pyspark.SparkContext(conf=conf)\n",
        "spark = SparkSession.builder.getOrCreate()"
      ],
      "execution_count": null,
      "outputs": []
    },
    {
      "cell_type": "code",
      "metadata": {
        "id": "BoKQvaMd-vJL"
      },
      "source": [
        "df = spark.read.csv('netflix_titles.txt',inferSchema =True, header=True,sep='\\t')"
      ],
      "execution_count": null,
      "outputs": []
    },
    {
      "cell_type": "code",
      "metadata": {
        "id": "kLz79hYRHPe6",
        "colab": {
          "base_uri": "https://localhost:8080/"
        },
        "outputId": "cb0364ee-da0c-4d27-df1c-973d07d86bbe"
      },
      "source": [
        "df.printSchema()"
      ],
      "execution_count": null,
      "outputs": [
        {
          "output_type": "stream",
          "text": [
            "root\n",
            " |-- _c0: integer (nullable = true)\n",
            " |-- show_id: integer (nullable = true)\n",
            " |-- type: string (nullable = true)\n",
            " |-- title: string (nullable = true)\n",
            " |-- director: string (nullable = true)\n",
            " |-- cast: string (nullable = true)\n",
            " |-- country: string (nullable = true)\n",
            " |-- date_added: string (nullable = true)\n",
            " |-- release_year: integer (nullable = true)\n",
            " |-- rating: string (nullable = true)\n",
            " |-- duration: string (nullable = true)\n",
            " |-- listed_in: string (nullable = true)\n",
            " |-- description: string (nullable = true)\n",
            "\n"
          ],
          "name": "stdout"
        }
      ]
    },
    {
      "cell_type": "code",
      "metadata": {
        "id": "mAtxLQ2gHUZA",
        "colab": {
          "base_uri": "https://localhost:8080/"
        },
        "outputId": "d81c8521-c1c4-4adb-f40f-ba1aeba98ee7"
      },
      "source": [
        "df.show()"
      ],
      "execution_count": null,
      "outputs": [
        {
          "output_type": "stream",
          "text": [
            "+---+--------+-------+--------------------+--------------------+--------------------+--------------------+----------+------------+--------+--------+--------------------+--------------------+\n",
            "|_c0| show_id|   type|               title|            director|                cast|             country|date_added|release_year|  rating|duration|           listed_in|         description|\n",
            "+---+--------+-------+--------------------+--------------------+--------------------+--------------------+----------+------------+--------+--------+--------------------+--------------------+\n",
            "|  0|81145628|  Movie|Norm of the North...|Richard Finn, Tim...|Alan Marriott, An...|United States, In...|  9-Sep-19|        2019|   TV-PG|  90 min|Children & Family...|Before planning a...|\n",
            "|  1|80117401|  Movie|Jandino: Whatever...|                null|    Jandino Asporaat|      United Kingdom|  9-Sep-16|        2016|   TV-MA|  94 min|     Stand-Up Comedy|\"Jandino Asporaat...|\n",
            "|  2|70234439|TV Show|  Transformers Prime|                null|Peter Cullen, Sum...|       United States|  8-Sep-18|        2013|TV-Y7-FV|1 Season|            Kids' TV|With the help of ...|\n",
            "|  3|80058654|TV Show|Transformers: Rob...|                null|Will Friedle, Dar...|       United States|  8-Sep-18|        2016|   TV-Y7|1 Season|            Kids' TV|When a prison shi...|\n",
            "|  4|80125979|  Movie|        #realityhigh|    Fernando Lebrija|Nesta Cooper, Kat...|       United States|  8-Sep-17|        2017|   TV-14|  99 min|            Comedies|When nerdy high s...|\n",
            "|  5|80163890|TV Show|             Apaches|                null|Alberto Ammann, E...|               Spain|  8-Sep-17|        2016|   TV-MA|1 Season|Crime TV Shows, I...|A young journalis...|\n",
            "|  6|70304989|  Movie|            Automata|         Gabe Ibáñez|Antonio Banderas,...|Bulgaria, United ...|  8-Sep-17|        2014|       R| 110 min|International Mov...|In a dystopian fu...|\n",
            "|  7|80164077|  Movie|Fabrizio Copano: ...|Rodrigo Toro, Fra...|     Fabrizio Copano|               Chile|  8-Sep-17|        2017|   TV-MA|  60 min|     Stand-Up Comedy|Fabrizio Copano t...|\n",
            "|  8|80117902|TV Show|        Fire Chasers|                null|                null|       United States|  8-Sep-17|        2017|   TV-MA|1 Season|Docuseries, Scien...|As California's 2...|\n",
            "|  9|70304990|  Movie|         Good People|   Henrik Ruben Genz|James Franco, Kat...|United States, Un...|  8-Sep-17|        2014|       R|  90 min|Action & Adventur...|A struggling coup...|\n",
            "| 10|80169755|  Movie|Joaquín Reyes: Un...|José Miguel Contr...|       Joaquín Reyes|                null|  8-Sep-17|        2017|   TV-MA|  78 min|     Stand-Up Comedy|Comedian and cele...|\n",
            "| 11|70299204|  Movie|Kidnapping Mr. He...|    Daniel Alfredson|Jim Sturgess, Sam...|Netherlands, Belg...|  8-Sep-17|        2015|       R|  95 min|Action & Adventur...|\"When beer magnat...|\n",
            "| 12|80182480|  Movie|Krish Trish and B...|                null|Damandeep Singh B...|                null|  8-Sep-17|        2009|   TV-Y7|  58 min|Children & Family...|A team of minstre...|\n",
            "| 13|80182483|  Movie|Krish Trish and B...|Munjal Shroff, Ti...|Damandeep Singh B...|                null|  8-Sep-17|        2013|   TV-Y7|  62 min|Children & Family...|An artisan is che...|\n",
            "| 14|80182596|  Movie|Krish Trish and B...|Munjal Shroff, Ti...|Damandeep Singh B...|                null|  8-Sep-17|        2016|    TV-Y|  65 min|Children & Family...|A cat, monkey and...|\n",
            "| 15|80182482|  Movie|Krish Trish and B...|        Tilak Shetty|Damandeep Singh B...|                null|  8-Sep-17|        2012|   TV-Y7|  61 min|Children & Family...|In three comic-st...|\n",
            "| 16|80182597|  Movie|Krish Trish and B...|        Tilak Shetty|Rishi Gambhir, Sm...|                null|  8-Sep-17|        2017|   TV-Y7|  65 min|Children & Family...|A cat, monkey and...|\n",
            "| 17|80182481|  Movie|Krish Trish and B...|                null|Damandeep Singh B...|                null|  8-Sep-17|        2010|   TV-Y7|  58 min|Children & Family...|Animal minstrels ...|\n",
            "| 18|80182621|  Movie|Krish Trish and B...|Munjal Shroff, Ti...|Damandeep Singh B...|                null|  8-Sep-17|        2013|   TV-Y7|  60 min|Children & Family...|The consequences ...|\n",
            "| 19|80057969|  Movie|                Love|          Gaspar Noé|Karl Glusman, Kla...|     France, Belgium|  8-Sep-17|        2015|      NR| 135 min|Cult Movies, Dram...|A man in an unsat...|\n",
            "+---+--------+-------+--------------------+--------------------+--------------------+--------------------+----------+------------+--------+--------+--------------------+--------------------+\n",
            "only showing top 20 rows\n",
            "\n"
          ],
          "name": "stdout"
        }
      ]
    },
    {
      "cell_type": "code",
      "metadata": {
        "colab": {
          "base_uri": "https://localhost:8080/"
        },
        "id": "dgvTs2VwNe34",
        "outputId": "06dabf0c-8018-49ea-a913-9b6abcac9fcd"
      },
      "source": [
        "from pyspark.sql.functions import filter,desc\n",
        "df.filter(\"type == 'Movie'\").groupBy(\"listed_in\").count().sort(desc(\"count\")).show()"
      ],
      "execution_count": null,
      "outputs": [
        {
          "output_type": "stream",
          "text": [
            "+--------------------+-----+\n",
            "|           listed_in|count|\n",
            "+--------------------+-----+\n",
            "|       Documentaries|  299|\n",
            "|     Stand-Up Comedy|  273|\n",
            "|Dramas, Internati...|  248|\n",
            "|Dramas, Independe...|  186|\n",
            "|Comedies, Dramas,...|  174|\n",
            "|Documentaries, In...|  150|\n",
            "|Children & Family...|  129|\n",
            "|Children & Family...|  120|\n",
            "|Comedies, Interna...|  120|\n",
            "|Dramas, Internati...|  108|\n",
            "|Action & Adventur...|  103|\n",
            "|Comedies, Interna...|   97|\n",
            "|Dramas, Internati...|   93|\n",
            "|              Dramas|   89|\n",
            "|Comedies, Dramas,...|   77|\n",
            "|Action & Adventur...|   75|\n",
            "|            Comedies|   73|\n",
            "|Dramas, Independe...|   68|\n",
            "|  Action & Adventure|   68|\n",
            "|Action & Adventur...|   57|\n",
            "+--------------------+-----+\n",
            "only showing top 20 rows\n",
            "\n"
          ],
          "name": "stdout"
        }
      ]
    },
    {
      "cell_type": "code",
      "metadata": {
        "colab": {
          "base_uri": "https://localhost:8080/",
          "height": 200
        },
        "id": "tdpjtAEgMDwP",
        "outputId": "e897049d-5294-4ffc-c8bb-a078a92db8c2"
      },
      "source": [
        "a=df.filter(\"type == 'Movie'\").groupBy(\"listed_in\").count().sort(desc(\"count\")).limit(10).toPandas()\n",
        "a.head()"
      ],
      "execution_count": null,
      "outputs": [
        {
          "output_type": "execute_result",
          "data": {
            "text/html": [
              "<div>\n",
              "<style scoped>\n",
              "    .dataframe tbody tr th:only-of-type {\n",
              "        vertical-align: middle;\n",
              "    }\n",
              "\n",
              "    .dataframe tbody tr th {\n",
              "        vertical-align: top;\n",
              "    }\n",
              "\n",
              "    .dataframe thead th {\n",
              "        text-align: right;\n",
              "    }\n",
              "</style>\n",
              "<table border=\"1\" class=\"dataframe\">\n",
              "  <thead>\n",
              "    <tr style=\"text-align: right;\">\n",
              "      <th></th>\n",
              "      <th>listed_in</th>\n",
              "      <th>count</th>\n",
              "    </tr>\n",
              "  </thead>\n",
              "  <tbody>\n",
              "    <tr>\n",
              "      <th>0</th>\n",
              "      <td>Documentaries</td>\n",
              "      <td>299</td>\n",
              "    </tr>\n",
              "    <tr>\n",
              "      <th>1</th>\n",
              "      <td>Stand-Up Comedy</td>\n",
              "      <td>273</td>\n",
              "    </tr>\n",
              "    <tr>\n",
              "      <th>2</th>\n",
              "      <td>Dramas, International Movies</td>\n",
              "      <td>248</td>\n",
              "    </tr>\n",
              "    <tr>\n",
              "      <th>3</th>\n",
              "      <td>Dramas, Independent Movies, International Movies</td>\n",
              "      <td>186</td>\n",
              "    </tr>\n",
              "    <tr>\n",
              "      <th>4</th>\n",
              "      <td>Comedies, Dramas, International Movies</td>\n",
              "      <td>174</td>\n",
              "    </tr>\n",
              "  </tbody>\n",
              "</table>\n",
              "</div>"
            ],
            "text/plain": [
              "                                          listed_in  count\n",
              "0                                     Documentaries    299\n",
              "1                                   Stand-Up Comedy    273\n",
              "2                      Dramas, International Movies    248\n",
              "3  Dramas, Independent Movies, International Movies    186\n",
              "4            Comedies, Dramas, International Movies    174"
            ]
          },
          "metadata": {
            "tags": []
          },
          "execution_count": 10
        }
      ]
    },
    {
      "cell_type": "code",
      "metadata": {
        "id": "pk4bedMFvMZv"
      },
      "source": [
        "def plot_bar(x_var, y_var, df, num_colors, title_name, xlabel_name, ylabel_name, hue_col):\n",
        "    if hue_col == None:\n",
        "        plt.figure(figsize = (10,6))\n",
        "        sns.barplot(x = x_var, y = y_var, data = df, ci = False,\n",
        "                    palette = sns.dark_palette(color = '#b60c26', n_colors = num_colors, reverse = True, input = 'hsl'))\n",
        "        plt.title(title_name, fontdict = {'fontsize': 16, 'fontweight': 'bold'})\n",
        "        plt.xlabel(xlabel_name)\n",
        "        plt.ylabel(ylabel_name)\n",
        "        plt.show()\n",
        "    else:\n",
        "        plt.figure(figsize = (10,6))\n",
        "        sns.barplot(x = x_var, y = y_var, data = df, ci = False, hue = hue_col,\n",
        "                    palette = sns.dark_palette(color = '#b60c26', n_colors = num_colors, reverse = True, input = 'hsl'))\n",
        "        plt.title(title_name, fontdict = {'fontsize': 16, 'fontweight': 'bold'})\n",
        "        plt.xlabel(xlabel_name)\n",
        "        plt.ylabel(ylabel_name)\n",
        "        plt.show()"
      ],
      "execution_count": null,
      "outputs": []
    },
    {
      "cell_type": "code",
      "metadata": {
        "colab": {
          "base_uri": "https://localhost:8080/",
          "height": 406
        },
        "id": "Aw4q7NjsvWZW",
        "outputId": "4dc18b11-810f-4da5-ecbe-480c9c92ae16"
      },
      "source": [
        "import seaborn as sns\n",
        "plot_bar(x_var = 'count',\n",
        "         y_var = 'listed_in',\n",
        "         df = a, \n",
        "         num_colors = 10, \n",
        "         title_name = 'Top 10 Genres in Movies', \n",
        "         xlabel_name = 'Frequency', \n",
        "         ylabel_name = 'Name of Genres',\n",
        "         hue_col = None)"
      ],
      "execution_count": null,
      "outputs": [
        {
          "output_type": "display_data",
          "data": {
            "image/png": "[encoded data removed]",
            "text/plain": [
              "<Figure size 720x432 with 1 Axes>"
            ]
          },
          "metadata": {
            "tags": [],
            "needs_background": "light"
          }
        }
      ]
    },
    {
      "cell_type": "code",
      "metadata": {
        "colab": {
          "base_uri": "https://localhost:8080/",
          "height": 200
        },
        "id": "V1VHb0v1v7tR",
        "outputId": "d36aaceb-b2b6-4d4a-e548-4fc60a91397e"
      },
      "source": [
        "b=df.filter(\"type == 'TV Show'\").groupBy(\"listed_in\").count().sort(desc(\"count\")).limit(10).toPandas()\n",
        "b.head()"
      ],
      "execution_count": null,
      "outputs": [
        {
          "output_type": "execute_result",
          "data": {
            "text/html": [
              "<div>\n",
              "<style scoped>\n",
              "    .dataframe tbody tr th:only-of-type {\n",
              "        vertical-align: middle;\n",
              "    }\n",
              "\n",
              "    .dataframe tbody tr th {\n",
              "        vertical-align: top;\n",
              "    }\n",
              "\n",
              "    .dataframe thead th {\n",
              "        text-align: right;\n",
              "    }\n",
              "</style>\n",
              "<table border=\"1\" class=\"dataframe\">\n",
              "  <thead>\n",
              "    <tr style=\"text-align: right;\">\n",
              "      <th></th>\n",
              "      <th>listed_in</th>\n",
              "      <th>count</th>\n",
              "    </tr>\n",
              "  </thead>\n",
              "  <tbody>\n",
              "    <tr>\n",
              "      <th>0</th>\n",
              "      <td>Kids' TV</td>\n",
              "      <td>159</td>\n",
              "    </tr>\n",
              "    <tr>\n",
              "      <th>1</th>\n",
              "      <td>International TV Shows, TV Dramas</td>\n",
              "      <td>92</td>\n",
              "    </tr>\n",
              "    <tr>\n",
              "      <th>2</th>\n",
              "      <td>Crime TV Shows, International TV Shows, TV Dramas</td>\n",
              "      <td>92</td>\n",
              "    </tr>\n",
              "    <tr>\n",
              "      <th>3</th>\n",
              "      <td>International TV Shows, Romantic TV Shows, TV ...</td>\n",
              "      <td>78</td>\n",
              "    </tr>\n",
              "    <tr>\n",
              "      <th>4</th>\n",
              "      <td>Kids' TV, TV Comedies</td>\n",
              "      <td>75</td>\n",
              "    </tr>\n",
              "  </tbody>\n",
              "</table>\n",
              "</div>"
            ],
            "text/plain": [
              "                                           listed_in  count\n",
              "0                                           Kids' TV    159\n",
              "1                  International TV Shows, TV Dramas     92\n",
              "2  Crime TV Shows, International TV Shows, TV Dramas     92\n",
              "3  International TV Shows, Romantic TV Shows, TV ...     78\n",
              "4                              Kids' TV, TV Comedies     75"
            ]
          },
          "metadata": {
            "tags": []
          },
          "execution_count": 13
        }
      ]
    },
    {
      "cell_type": "code",
      "metadata": {
        "colab": {
          "base_uri": "https://localhost:8080/",
          "height": 406
        },
        "id": "J75jncmGy8ra",
        "outputId": "0539bcaa-49a3-4466-f35c-05f2301fc12d"
      },
      "source": [
        "plot_bar(x_var = 'count',\n",
        "         y_var = 'listed_in',\n",
        "         df = b, \n",
        "         num_colors = 10, \n",
        "         title_name = 'Top 10 Genres in TV Show', \n",
        "         xlabel_name = 'Frequency', \n",
        "         ylabel_name = 'Name of Genres',\n",
        "         hue_col = None)"
      ],
      "execution_count": null,
      "outputs": [
        {
          "output_type": "display_data",
          "data": {
            "image/png": "[encoded data removed]",
            "text/plain": [
              "<Figure size 720x432 with 1 Axes>"
            ]
          },
          "metadata": {
            "tags": [],
            "needs_background": "light"
          }
        }
      ]
    },
    {
      "cell_type": "code",
      "metadata": {
        "colab": {
          "base_uri": "https://localhost:8080/",
          "height": 575
        },
        "id": "Fc0CgIuSzIiO",
        "outputId": "e76ed87a-ee8f-4b47-a5b8-4e3a3a4c29da"
      },
      "source": [
        "c=df.toPandas()\n",
        "c.head()"
      ],
      "execution_count": null,
      "outputs": [
        {
          "output_type": "execute_result",
          "data": {
            "text/html": [
              "<div>\n",
              "<style scoped>\n",
              "    .dataframe tbody tr th:only-of-type {\n",
              "        vertical-align: middle;\n",
              "    }\n",
              "\n",
              "    .dataframe tbody tr th {\n",
              "        vertical-align: top;\n",
              "    }\n",
              "\n",
              "    .dataframe thead th {\n",
              "        text-align: right;\n",
              "    }\n",
              "</style>\n",
              "<table border=\"1\" class=\"dataframe\">\n",
              "  <thead>\n",
              "    <tr style=\"text-align: right;\">\n",
              "      <th></th>\n",
              "      <th>_c0</th>\n",
              "      <th>show_id</th>\n",
              "      <th>type</th>\n",
              "      <th>title</th>\n",
              "      <th>director</th>\n",
              "      <th>cast</th>\n",
              "      <th>country</th>\n",
              "      <th>date_added</th>\n",
              "      <th>release_year</th>\n",
              "      <th>rating</th>\n",
              "      <th>duration</th>\n",
              "      <th>listed_in</th>\n",
              "      <th>description</th>\n",
              "    </tr>\n",
              "  </thead>\n",
              "  <tbody>\n",
              "    <tr>\n",
              "      <th>0</th>\n",
              "      <td>0</td>\n",
              "      <td>81145628</td>\n",
              "      <td>Movie</td>\n",
              "      <td>Norm of the North: King Sized Adventure</td>\n",
              "      <td>Richard Finn, Tim Maltby</td>\n",
              "      <td>Alan Marriott, Andrew Toth, Brian Dobson, Cole...</td>\n",
              "      <td>United States, India, South Korea, China</td>\n",
              "      <td>9-Sep-19</td>\n",
              "      <td>2019</td>\n",
              "      <td>TV-PG</td>\n",
              "      <td>90 min</td>\n",
              "      <td>Children &amp; Family Movies, Comedies</td>\n",
              "      <td>Before planning an awesome wedding for his gra...</td>\n",
              "    </tr>\n",
              "    <tr>\n",
              "      <th>1</th>\n",
              "      <td>1</td>\n",
              "      <td>80117401</td>\n",
              "      <td>Movie</td>\n",
              "      <td>Jandino: Whatever it Takes</td>\n",
              "      <td>None</td>\n",
              "      <td>Jandino Asporaat</td>\n",
              "      <td>United Kingdom</td>\n",
              "      <td>9-Sep-16</td>\n",
              "      <td>2016</td>\n",
              "      <td>TV-MA</td>\n",
              "      <td>94 min</td>\n",
              "      <td>Stand-Up Comedy</td>\n",
              "      <td>\"Jandino Asporaat riffs on the challenges of r...</td>\n",
              "    </tr>\n",
              "    <tr>\n",
              "      <th>2</th>\n",
              "      <td>2</td>\n",
              "      <td>70234439</td>\n",
              "      <td>TV Show</td>\n",
              "      <td>Transformers Prime</td>\n",
              "      <td>None</td>\n",
              "      <td>Peter Cullen, Sumalee Montano, Frank Welker, J...</td>\n",
              "      <td>United States</td>\n",
              "      <td>8-Sep-18</td>\n",
              "      <td>2013</td>\n",
              "      <td>TV-Y7-FV</td>\n",
              "      <td>1 Season</td>\n",
              "      <td>Kids' TV</td>\n",
              "      <td>With the help of three human allies, the Autob...</td>\n",
              "    </tr>\n",
              "    <tr>\n",
              "      <th>3</th>\n",
              "      <td>3</td>\n",
              "      <td>80058654</td>\n",
              "      <td>TV Show</td>\n",
              "      <td>Transformers: Robots in Disguise</td>\n",
              "      <td>None</td>\n",
              "      <td>Will Friedle, Darren Criss, Constance Zimmer, ...</td>\n",
              "      <td>United States</td>\n",
              "      <td>8-Sep-18</td>\n",
              "      <td>2016</td>\n",
              "      <td>TV-Y7</td>\n",
              "      <td>1 Season</td>\n",
              "      <td>Kids' TV</td>\n",
              "      <td>When a prison ship crash unleashes hundreds of...</td>\n",
              "    </tr>\n",
              "    <tr>\n",
              "      <th>4</th>\n",
              "      <td>4</td>\n",
              "      <td>80125979</td>\n",
              "      <td>Movie</td>\n",
              "      <td>#realityhigh</td>\n",
              "      <td>Fernando Lebrija</td>\n",
              "      <td>Nesta Cooper, Kate Walsh, John Michael Higgins...</td>\n",
              "      <td>United States</td>\n",
              "      <td>8-Sep-17</td>\n",
              "      <td>2017</td>\n",
              "      <td>TV-14</td>\n",
              "      <td>99 min</td>\n",
              "      <td>Comedies</td>\n",
              "      <td>When nerdy high schooler Dani finally attracts...</td>\n",
              "    </tr>\n",
              "  </tbody>\n",
              "</table>\n",
              "</div>"
            ],
            "text/plain": [
              "   _c0  ...                                        description\n",
              "0    0  ...  Before planning an awesome wedding for his gra...\n",
              "1    1  ...  \"Jandino Asporaat riffs on the challenges of r...\n",
              "2    2  ...  With the help of three human allies, the Autob...\n",
              "3    3  ...  When a prison ship crash unleashes hundreds of...\n",
              "4    4  ...  When nerdy high schooler Dani finally attracts...\n",
              "\n",
              "[5 rows x 13 columns]"
            ]
          },
          "metadata": {
            "tags": []
          },
          "execution_count": 15
        }
      ]
    },
    {
      "cell_type": "code",
      "metadata": {
        "colab": {
          "base_uri": "https://localhost:8080/",
          "height": 406
        },
        "id": "Zg6MUUckzYur",
        "outputId": "b76d7a12-28b2-408d-92b5-2e8b78a7e41e"
      },
      "source": [
        "plt.figure(figsize = (10, 6))\n",
        "sns.countplot(x = 'type', hue = 'rating', data = c, palette = sns.color_palette(\"icefire\"))\n",
        "plt.title('Rating Type Distribution in Movies and TV Shows', fontdict = {'fontsize': 16, 'fontweight': 'bold'})\n",
        "plt.xlabel('Content Type')\n",
        "plt.ylabel('Rating Frequency')\n",
        "plt.show()"
      ],
      "execution_count": null,
      "outputs": [
        {
          "output_type": "display_data",
          "data": {
            "image/png": "[encoded data removed]",
            "text/plain": [
              "<Figure size 720x432 with 1 Axes>"
            ]
          },
          "metadata": {
            "tags": [],
            "needs_background": "light"
          }
        }
      ]
    },
    {
      "cell_type": "code",
      "metadata": {
        "colab": {
          "base_uri": "https://localhost:8080/"
        },
        "id": "aEE5rKEszyO2",
        "outputId": "51c8c219-f77a-4145-b467-ce5709438d1d"
      },
      "source": [
        "\n",
        "df.groupBy(\"type\",'release_year').count().sort(desc(\"count\")).show()"
      ],
      "execution_count": null,
      "outputs": [
        {
          "output_type": "stream",
          "text": [
            "+-------+------------+-----+\n",
            "|   type|release_year|count|\n",
            "+-------+------------+-----+\n",
            "|  Movie|        2017|  682|\n",
            "|  Movie|        2018|  646|\n",
            "|  Movie|        2016|  593|\n",
            "|TV Show|        2019|  443|\n",
            "|TV Show|        2018|  417|\n",
            "|  Movie|        2019|  400|\n",
            "|  Movie|        2015|  363|\n",
            "|TV Show|        2017|  277|\n",
            "|TV Show|        2016|  237|\n",
            "|  Movie|        2014|  213|\n",
            "|  Movie|        2013|  177|\n",
            "|TV Show|        2015|  154|\n",
            "|  Movie|        2012|  125|\n",
            "|  Movie|        2010|  111|\n",
            "|  Movie|        2011|  100|\n",
            "|  Movie|        2009|   87|\n",
            "|  Movie|        2008|   87|\n",
            "|TV Show|        2014|   75|\n",
            "|  Movie|        2007|   60|\n",
            "|TV Show|        2013|   60|\n",
            "+-------+------------+-----+\n",
            "only showing top 20 rows\n",
            "\n"
          ],
          "name": "stdout"
        }
      ]
    },
    {
      "cell_type": "code",
      "metadata": {
        "id": "cAuVC5bM049s"
      },
      "source": [
        "d=df.groupBy(\"type\",'release_year').count().sort(desc(\"count\")).toPandas()"
      ],
      "execution_count": null,
      "outputs": []
    },
    {
      "cell_type": "code",
      "metadata": {
        "id": "ABfoJyAy5OEa",
        "colab": {
          "base_uri": "https://localhost:8080/",
          "height": 411
        },
        "outputId": "96c8de32-1dec-4dbe-c283-f0afef82a528"
      },
      "source": [
        "from pyspark.sql.types import IntegerType\n",
        "d=df.groupBy(\"type\",'release_year').count().sort(desc(\"count\"))\n",
        "\n",
        "d = d.withColumn(\"release_year\",d.release_year.cast(IntegerType())).toPandas()\n",
        "d\n"
      ],
      "execution_count": null,
      "outputs": [
        {
          "output_type": "execute_result",
          "data": {
            "text/html": [
              "<div>\n",
              "<style scoped>\n",
              "    .dataframe tbody tr th:only-of-type {\n",
              "        vertical-align: middle;\n",
              "    }\n",
              "\n",
              "    .dataframe tbody tr th {\n",
              "        vertical-align: top;\n",
              "    }\n",
              "\n",
              "    .dataframe thead th {\n",
              "        text-align: right;\n",
              "    }\n",
              "</style>\n",
              "<table border=\"1\" class=\"dataframe\">\n",
              "  <thead>\n",
              "    <tr style=\"text-align: right;\">\n",
              "      <th></th>\n",
              "      <th>type</th>\n",
              "      <th>release_year</th>\n",
              "      <th>count</th>\n",
              "    </tr>\n",
              "  </thead>\n",
              "  <tbody>\n",
              "    <tr>\n",
              "      <th>0</th>\n",
              "      <td>Movie</td>\n",
              "      <td>2017</td>\n",
              "      <td>682</td>\n",
              "    </tr>\n",
              "    <tr>\n",
              "      <th>1</th>\n",
              "      <td>Movie</td>\n",
              "      <td>2018</td>\n",
              "      <td>646</td>\n",
              "    </tr>\n",
              "    <tr>\n",
              "      <th>2</th>\n",
              "      <td>Movie</td>\n",
              "      <td>2016</td>\n",
              "      <td>593</td>\n",
              "    </tr>\n",
              "    <tr>\n",
              "      <th>3</th>\n",
              "      <td>TV Show</td>\n",
              "      <td>2019</td>\n",
              "      <td>443</td>\n",
              "    </tr>\n",
              "    <tr>\n",
              "      <th>4</th>\n",
              "      <td>TV Show</td>\n",
              "      <td>2018</td>\n",
              "      <td>417</td>\n",
              "    </tr>\n",
              "    <tr>\n",
              "      <th>...</th>\n",
              "      <td>...</td>\n",
              "      <td>...</td>\n",
              "      <td>...</td>\n",
              "    </tr>\n",
              "    <tr>\n",
              "      <th>110</th>\n",
              "      <td>TV Show</td>\n",
              "      <td>1967</td>\n",
              "      <td>1</td>\n",
              "    </tr>\n",
              "    <tr>\n",
              "      <th>111</th>\n",
              "      <td>Movie</td>\n",
              "      <td>1947</td>\n",
              "      <td>1</td>\n",
              "    </tr>\n",
              "    <tr>\n",
              "      <th>112</th>\n",
              "      <td>TV Show</td>\n",
              "      <td>1968</td>\n",
              "      <td>1</td>\n",
              "    </tr>\n",
              "    <tr>\n",
              "      <th>113</th>\n",
              "      <td>Movie</td>\n",
              "      <td>1970</td>\n",
              "      <td>1</td>\n",
              "    </tr>\n",
              "    <tr>\n",
              "      <th>114</th>\n",
              "      <td>Movie</td>\n",
              "      <td>1966</td>\n",
              "      <td>1</td>\n",
              "    </tr>\n",
              "  </tbody>\n",
              "</table>\n",
              "<p>115 rows × 3 columns</p>\n",
              "</div>"
            ],
            "text/plain": [
              "        type  release_year  count\n",
              "0      Movie          2017    682\n",
              "1      Movie          2018    646\n",
              "2      Movie          2016    593\n",
              "3    TV Show          2019    443\n",
              "4    TV Show          2018    417\n",
              "..       ...           ...    ...\n",
              "110  TV Show          1967      1\n",
              "111    Movie          1947      1\n",
              "112  TV Show          1968      1\n",
              "113    Movie          1970      1\n",
              "114    Movie          1966      1\n",
              "\n",
              "[115 rows x 3 columns]"
            ]
          },
          "metadata": {
            "tags": []
          },
          "execution_count": 19
        }
      ]
    },
    {
      "cell_type": "code",
      "metadata": {
        "colab": {
          "base_uri": "https://localhost:8080/"
        },
        "id": "-5W0iDIM6pcH",
        "outputId": "77a61264-2e58-4a5f-ea7a-268e685ffd81"
      },
      "source": [
        "d.release_year.min()"
      ],
      "execution_count": null,
      "outputs": [
        {
          "output_type": "execute_result",
          "data": {
            "text/plain": [
              "1925"
            ]
          },
          "metadata": {
            "tags": []
          },
          "execution_count": 20
        }
      ]
    },
    {
      "cell_type": "code",
      "metadata": {
        "colab": {
          "base_uri": "https://localhost:8080/",
          "height": 406
        },
        "id": "tCtSMZgN03ic",
        "outputId": "d77d2b15-a6f0-4d33-ca6d-c3aa28b65c65"
      },
      "source": [
        "plt.figure(figsize = (10, 6))\n",
        "sns.lineplot(x = 'release_year', y = 'count', hue = 'type', data = d, \n",
        "             palette = sns.dark_palette(color = '#b60c26', n_colors = 2, reverse = True, input = 'hsl'))\n",
        "plt.title('The Growth of Movies/TV Shows over the years', fontdict = {'fontsize': 16, 'fontweight': 'bold'})\n",
        "plt.xlabel('Release Year')\n",
        "plt.xticks(ticks = d['release_year'].unique())\n",
        "plt.ylabel('Frequency')\n",
        "plt.show()"
      ],
      "execution_count": null,
      "outputs": [
        {
          "output_type": "display_data",
          "data": {
            "image/png": "[encoded data removed]",
            "text/plain": [
              "<Figure size 720x432 with 1 Axes>"
            ]
          },
          "metadata": {
            "tags": [],
            "needs_background": "light"
          }
        }
      ]
    }
  ]
}